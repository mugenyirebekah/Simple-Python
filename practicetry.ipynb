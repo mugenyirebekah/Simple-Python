{
 "cells": [
  {
   "cell_type": "code",
   "execution_count": 5,
   "metadata": {},
   "outputs": [
    {
     "name": "stdout",
     "output_type": "stream",
     "text": [
      "Hello world\n"
     ]
    }
   ],
   "source": [
    "print(\"Hello world\")"
   ]
  },
  {
   "cell_type": "code",
   "execution_count": 6,
   "metadata": {},
   "outputs": [
    {
     "name": "stdout",
     "output_type": "stream",
     "text": [
      "This is Jupiter Notebook\n"
     ]
    }
   ],
   "source": [
    "print(\"This is Jupiter Notebook\")"
   ]
  },
  {
   "cell_type": "code",
   "execution_count": 7,
   "metadata": {},
   "outputs": [],
   "source": [
    "#ipnyb"
   ]
  }
 ],
 "metadata": {
  "kernelspec": {
   "display_name": "Python 3",
   "language": "python",
   "name": "python3"
  },
  "language_info": {
   "codemirror_mode": {
    "name": "ipython",
    "version": 3
   },
   "file_extension": ".py",
   "mimetype": "text/x-python",
   "name": "python",
   "nbconvert_exporter": "python",
   "pygments_lexer": "ipython3",
   "version": "3.12.6"
  }
 },
 "nbformat": 4,
 "nbformat_minor": 2
}
import graphics

win = graphics.GraphWin()

from graphics import *

win = GraphWin ()
from graphics import *

win = GraphWin()

p = Point(50,60)

p2 = Point(50,50)

p3 = Point(80, 90)

p.draw(win)

p2.draw(win)

p3.draw(win)
#Drawing a circle in the window

from graphics import *

win = GraphWin()

center = Point(90,90)

circ = Circle(center, 40)

circ.setFill('Red')


circ.draw(win)

#Draw a circles


from graphics import *

win = GraphWin

p1 = Point(50,50)

p2 = Point(40,30)

circ = (p1, 40)

circ2 = (p2, 20)

circ.setFill('red')

circ2.setFill('red')

circ.draw(win)

circ2.draw(win)
#Draw a rectangle:


from graphics import *

win = GrawphWin()

rect = Rectangle(Point(20,20), Point(30,30))

rect.draw()
#Drawing a circle in the window

from graphics import *

win = GraphWin()

leftEye = Circle(Point(80, 50), 5)
leftEye.setFill('yellow')
leftEye.setOutline('red')
rightEye = Circle(Point(100, 50), 5) 
rightEye.setFill('yellow')
rightEye.setOutline('red')

from graphics import *

win = GraphWin("Yooooski")

cp = win.getMouse()

print("The point: ", cp.getX(), cp.getY())
from graphics import *

win = GraphWin("Yoski")

p1 = win.getMouse()

p1.draw(win)

p2 = win.getMouse()

p2.draw(win)

p3 = win.getMouse()

p3.draw(win)


triangle = Polygon(p1,p2,p3)

triangle.setFill("Red")

triangle.setOutline("Cyan")

triangle.draw(win)

win.getMouse()
from graphics import *

def main():
    win = GraphWin("Celsius Converter", 300,200)
    win.setCoords(0.0, 0.0, 3.0, 4.0)

    t1 = Text(Point(1,3), "Celsius temp: ")

    t1.draw(win)

    t2 = Text(Point(1,1), "Fahrenheit temp: ")

    t2.draw(win)



    input = Entry(Point(2,3), 5)
    input.draw(win)

    output = Entry(Point(2,1),6)
    output.draw(win)

    button = Text(Point(1.5,2.0), "Convert It")
    button.draw(win)
    Rectangle(Point(1,1.5), Point(2,2.5)).draw(win)


    win.getMouse()


    celsius = eval(input.getText())
    fahrenheit = 9.0/5.0*celsius + 32

    output.setText(fahrenheit)

    win.getMouse()
main()
