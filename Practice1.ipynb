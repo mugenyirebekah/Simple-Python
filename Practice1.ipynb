{
 "cells": [
  {
   "cell_type": "code",
   "execution_count": 1,
   "metadata": {},
   "outputs": [
    {
     "name": "stdout",
     "output_type": "stream",
     "text": [
      "1\n",
      "9\n",
      "25\n"
     ]
    }
   ],
   "source": [
    "num_list = [1,2,3,4,5,6]\n",
    "\n",
    "for i in num_list:\n",
    "    if i % 2 != 0:\n",
    "        print(i**2)\n"
   ]
  },
  {
   "cell_type": "code",
   "execution_count": 4,
   "metadata": {},
   "outputs": [
    {
     "name": "stdout",
     "output_type": "stream",
     "text": [
      "1\n",
      "4\n",
      "9\n",
      "16\n",
      "25\n",
      "36\n"
     ]
    }
   ],
   "source": [
    "for i in [1,2,3,4,5,6]:\n",
    "    print(i*i)"
   ]
  },
  {
   "cell_type": "code",
   "execution_count": 7,
   "metadata": {},
   "outputs": [
    {
     "name": "stdout",
     "output_type": "stream",
     "text": [
      "You are going to get 2 slices of toast, 4 eggs, and 5 slices of bacon!\n"
     ]
    }
   ],
   "source": [
    "def breakfast():\n",
    "    toast, eggs, bacon = eval(input(\"How much toast, eggs, and bacon?\"))\n",
    "    print(f\"You are going to get {toast} slices of toast, {eggs} eggs, and {bacon} slices of bacon!\")\n",
    "breakfast()"
   ]
  },
  {
   "cell_type": "code",
   "execution_count": 10,
   "metadata": {},
   "outputs": [
    {
     "name": "stdout",
     "output_type": "stream",
     "text": [
      "3 4\n"
     ]
    }
   ],
   "source": [
    "print(3,4, end = \"\")"
   ]
  },
  {
   "cell_type": "code",
   "execution_count": null,
   "metadata": {},
   "outputs": [],
   "source": [
    "'''\n",
    "TEST 2 QUESTIONS\n",
    "    1) Write a Python program that takes a list of integers as input and returns a list of even numbers.\n",
    "\t2) Write a Python program to print the multiplication table of a given number up to 12.\n",
    "\t3) Write a Python program that finds the largest number in a list without using the max() function.\n",
    "\t4) Write a Python function that checks if a string is the same as the input String\n",
    "\n",
    "'''"
   ]
  },
  {
   "cell_type": "code",
   "execution_count": 23,
   "metadata": {},
   "outputs": [],
   "source": [
    "def create_list():\n",
    "    nums = []\n",
    "    x = input(\"Enter a number to include into the list (Press enter when you are done): \")\n",
    "\n",
    "    while x != \"\":\n",
    "        nums.append(int(x))\n",
    "        x = input(\"Enter a number to include into the list (Press enter when you are done): \")\n",
    "    \n",
    "    else:\n",
    "        print(\"List complete\")\n",
    "\n",
    "        print(nums)\n",
    "    \n",
    "    return nums\n",
    "\n",
    "def print_even_numbers(nums):\n",
    "\n",
    "    print(\"The even numbers are: \")\n",
    "    for i in nums:\n",
    "        if i % 2 == 0:\n",
    "            print(i)\n",
    "\n",
    "\n",
    "def main():\n",
    "    nums = create_list()\n",
    "    print_even_numbers(nums)\n",
    "main()\n",
    "\n",
    "\n",
    "\n"
   ]
  },
  {
   "cell_type": "code",
   "execution_count": 19,
   "metadata": {},
   "outputs": [
    {
     "name": "stdout",
     "output_type": "stream",
     "text": [
      "This program prints the multiplication table of a given number up to 12.\n",
      "1 x 7 = 7\n",
      "2 x 7 = 14\n",
      "3 x 7 = 21\n",
      "4 x 7 = 28\n",
      "5 x 7 = 35\n",
      "6 x 7 = 42\n",
      "7 x 7 = 49\n",
      "8 x 7 = 56\n",
      "9 x 7 = 63\n",
      "10 x 7 = 70\n",
      "11 x 7 = 77\n",
      "12 x 7 = 84\n"
     ]
    }
   ],
   "source": [
    "def main():\n",
    "    print(\"This program prints the multiplication table of a given number up to 12.\")\n",
    "\n",
    "    n = eval(input(\"Enter a number: \"))\n",
    "\n",
    "    for i in range(1,13):\n",
    "        print(f\"{i} x {n} = {i*n}\")\n",
    "main()"
   ]
  },
  {
   "cell_type": "code",
   "execution_count": 16,
   "metadata": {},
   "outputs": [
    {
     "name": "stdout",
     "output_type": "stream",
     "text": [
      "88\n"
     ]
    }
   ],
   "source": [
    "nums = [5,6,2,88,6,1]\n",
    "\n",
    "largest = nums[0]\n",
    "\n",
    "for i in nums:\n",
    "    if i > largest:\n",
    "        largest = i\n",
    "\n",
    "print(largest)"
   ]
  },
  {
   "cell_type": "code",
   "execution_count": 15,
   "metadata": {},
   "outputs": [
    {
     "name": "stdout",
     "output_type": "stream",
     "text": [
      "This program checks to see if a string is the same as the input string\n",
      "The strings are the same\n"
     ]
    }
   ],
   "source": [
    "def main():\n",
    "    print(\"This program checks to see if a string is the same as the input string\")\n",
    "    input_string = input(\"Please enter a string: \")\n",
    "\n",
    "    if input_string == 'pass_string':\n",
    "        print(\"The strings are the same\")\n",
    "\n",
    "    else:\n",
    "        print(\"The strings are not the same\")\n",
    "main()"
   ]
  }
 ],
 "metadata": {
  "kernelspec": {
   "display_name": "Python 3",
   "language": "python",
   "name": "python3"
  },
  "language_info": {
   "codemirror_mode": {
    "name": "ipython",
    "version": 3
   },
   "file_extension": ".py",
   "mimetype": "text/x-python",
   "name": "python",
   "nbconvert_exporter": "python",
   "pygments_lexer": "ipython3",
   "version": "3.12.6"
  }
 },
 "nbformat": 4,
 "nbformat_minor": 2
}
