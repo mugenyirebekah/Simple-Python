{
 "cells": [
  {
   "cell_type": "code",
   "execution_count": 5,
   "metadata": {},
   "outputs": [],
   "source": [
    "import graphics\n",
    "\n",
    "win = graphics.GraphWin()\n"
   ]
  },
  {
   "cell_type": "code",
   "execution_count": 6,
   "metadata": {},
   "outputs": [],
   "source": [
    "from graphics import *\n",
    "\n",
    "win = GraphWin ()"
   ]
  },
  {
   "cell_type": "code",
   "execution_count": 1,
   "metadata": {},
   "outputs": [
    {
     "data": {
      "text/plain": [
       "Point(80.0, 90.0)"
      ]
     },
     "execution_count": 1,
     "metadata": {},
     "output_type": "execute_result"
    }
   ],
   "source": [
    "from graphics import *\n",
    "\n",
    "win = GraphWin()\n",
    "\n",
    "p = Point(50,60)\n",
    "\n",
    "p2 = Point(50,50)\n",
    "\n",
    "p3 = Point(80, 90)\n",
    "\n",
    "p.draw(win)\n",
    "\n",
    "p2.draw(win)\n",
    "\n",
    "p3.draw(win)"
   ]
  },
  {
   "cell_type": "code",
   "execution_count": 2,
   "metadata": {},
   "outputs": [
    {
     "data": {
      "text/plain": [
       "Circle(Point(90.0, 90.0), 40)"
      ]
     },
     "execution_count": 2,
     "metadata": {},
     "output_type": "execute_result"
    }
   ],
   "source": [
    "#Drawing a circle in the window\n",
    "\n",
    "from graphics import *\n",
    "\n",
    "win = GraphWin()\n",
    "\n",
    "center = Point(90,90)\n",
    "\n",
    "circ = Circle(center, 40)\n",
    "\n",
    "circ.setFill('Red')\n",
    "\n",
    "\n",
    "circ.draw(win)"
   ]
  },
  {
   "cell_type": "code",
   "execution_count": null,
   "metadata": {},
   "outputs": [],
   "source": []
  },
  {
   "cell_type": "code",
   "execution_count": 20,
   "metadata": {},
   "outputs": [
    {
     "ename": "AttributeError",
     "evalue": "'tuple' object has no attribute 'setFill'",
     "output_type": "error",
     "traceback": [
      "\u001b[0;31m---------------------------------------------------------------------------\u001b[0m",
      "\u001b[0;31mAttributeError\u001b[0m                            Traceback (most recent call last)",
      "Cell \u001b[0;32mIn[20], line 16\u001b[0m\n\u001b[1;32m     12\u001b[0m circ \u001b[38;5;241m=\u001b[39m (p1, \u001b[38;5;241m40\u001b[39m)\n\u001b[1;32m     14\u001b[0m circ2 \u001b[38;5;241m=\u001b[39m (p2, \u001b[38;5;241m20\u001b[39m)\n\u001b[0;32m---> 16\u001b[0m \u001b[43mcirc\u001b[49m\u001b[38;5;241;43m.\u001b[39;49m\u001b[43msetFill\u001b[49m(\u001b[38;5;124m'\u001b[39m\u001b[38;5;124mred\u001b[39m\u001b[38;5;124m'\u001b[39m)\n\u001b[1;32m     18\u001b[0m circ2\u001b[38;5;241m.\u001b[39msetFill(\u001b[38;5;124m'\u001b[39m\u001b[38;5;124mred\u001b[39m\u001b[38;5;124m'\u001b[39m)\n\u001b[1;32m     20\u001b[0m circ\u001b[38;5;241m.\u001b[39mdraw(win)\n",
      "\u001b[0;31mAttributeError\u001b[0m: 'tuple' object has no attribute 'setFill'"
     ]
    }
   ],
   "source": [
    "#Draw a circles\n",
    "\n",
    "\n",
    "from graphics import *\n",
    "\n",
    "win = GraphWin\n",
    "\n",
    "p1 = Point(50,50)\n",
    "\n",
    "p2 = Point(40,30)\n",
    "\n",
    "circ = (p1, 40)\n",
    "\n",
    "circ2 = (p2, 20)\n",
    "\n",
    "circ.setFill('red')\n",
    "\n",
    "circ2.setFill('red')\n",
    "\n",
    "circ.draw(win)\n",
    "\n",
    "circ2.draw(win)"
   ]
  },
  {
   "cell_type": "code",
   "execution_count": 35,
   "metadata": {},
   "outputs": [
    {
     "ename": "NameError",
     "evalue": "name 'GrawphWin' is not defined",
     "output_type": "error",
     "traceback": [
      "\u001b[0;31m---------------------------------------------------------------------------\u001b[0m",
      "\u001b[0;31mNameError\u001b[0m                                 Traceback (most recent call last)",
      "Cell \u001b[0;32mIn[35], line 6\u001b[0m\n\u001b[1;32m      1\u001b[0m \u001b[38;5;66;03m#Draw a rectangle:\u001b[39;00m\n\u001b[1;32m      4\u001b[0m \u001b[38;5;28;01mfrom\u001b[39;00m \u001b[38;5;21;01mgraphics\u001b[39;00m \u001b[38;5;28;01mimport\u001b[39;00m \u001b[38;5;241m*\u001b[39m\n\u001b[0;32m----> 6\u001b[0m win \u001b[38;5;241m=\u001b[39m \u001b[43mGrawphWin\u001b[49m()\n\u001b[1;32m      8\u001b[0m rect \u001b[38;5;241m=\u001b[39m Rectangle(Point(\u001b[38;5;241m20\u001b[39m,\u001b[38;5;241m20\u001b[39m), Point(\u001b[38;5;241m30\u001b[39m,\u001b[38;5;241m30\u001b[39m))\n\u001b[1;32m     10\u001b[0m rect\u001b[38;5;241m.\u001b[39mdraw()\n",
      "\u001b[0;31mNameError\u001b[0m: name 'GrawphWin' is not defined"
     ]
    }
   ],
   "source": [
    "#Draw a rectangle:\n",
    "\n",
    "\n",
    "from graphics import *\n",
    "\n",
    "win = GrawphWin()\n",
    "\n",
    "rect = Rectangle(Point(20,20), Point(30,30))\n",
    "\n",
    "rect.draw()"
   ]
  },
  {
   "cell_type": "code",
   "execution_count": 1,
   "metadata": {},
   "outputs": [
    {
     "ename": "",
     "evalue": "",
     "output_type": "error",
     "traceback": [
      "\u001b[1;31mThe Kernel crashed while executing code in the current cell or a previous cell. \n",
      "\u001b[1;31mPlease review the code in the cell(s) to identify a possible cause of the failure. \n",
      "\u001b[1;31mClick <a href='https://aka.ms/vscodeJupyterKernelCrash'>here</a> for more info. \n",
      "\u001b[1;31mView Jupyter <a href='command:jupyter.viewOutput'>log</a> for further details."
     ]
    }
   ],
   "source": [
    "#Drawing a circle in the window\n",
    "\n",
    "from graphics import *\n",
    "\n",
    "win = GraphWin()\n",
    "\n",
    "leftEye = Circle(Point(80, 50), 5)\n",
    "leftEye.setFill('yellow')\n",
    "leftEye.setOutline('red')\n",
    "rightEye = Circle(Point(100, 50), 5) \n",
    "rightEye.setFill('yellow')\n",
    "rightEye.setOutline('red')\n"
   ]
  },
  {
   "cell_type": "code",
   "execution_count": null,
   "metadata": {},
   "outputs": [],
   "source": [
    "from graphics import *\n",
    "\n",
    "win = GraphWin(\"Yooooski\")\n",
    "\n",
    "cp = win.getMouse()\n",
    "\n",
    "print(\"The point: \", cp.getX(), cp.getY())"
   ]
  },
  {
   "cell_type": "code",
   "execution_count": 1,
   "metadata": {},
   "outputs": [
    {
     "data": {
      "text/plain": [
       "Point(146.0, 136.0)"
      ]
     },
     "execution_count": 1,
     "metadata": {},
     "output_type": "execute_result"
    },
    {
     "ename": "",
     "evalue": "",
     "output_type": "error",
     "traceback": [
      "\u001b[1;31mThe Kernel crashed while executing code in the current cell or a previous cell. \n",
      "\u001b[1;31mPlease review the code in the cell(s) to identify a possible cause of the failure. \n",
      "\u001b[1;31mClick <a href='https://aka.ms/vscodeJupyterKernelCrash'>here</a> for more info. \n",
      "\u001b[1;31mView Jupyter <a href='command:jupyter.viewOutput'>log</a> for further details."
     ]
    }
   ],
   "source": [
    "from graphics import *\n",
    "\n",
    "win = GraphWin(\"Yoski\")\n",
    "\n",
    "p1 = win.getMouse()\n",
    "\n",
    "p1.draw(win)\n",
    "\n",
    "p2 = win.getMouse()\n",
    "\n",
    "p2.draw(win)\n",
    "\n",
    "p3 = win.getMouse()\n",
    "\n",
    "p3.draw(win)\n",
    "\n",
    "\n",
    "triangle = Polygon(p1,p2,p3)\n",
    "\n",
    "triangle.setFill(\"Red\")\n",
    "\n",
    "triangle.setOutline(\"Cyan\")\n",
    "\n",
    "triangle.draw(win)\n",
    "\n",
    "win.getMouse()"
   ]
  },
  {
   "cell_type": "code",
   "execution_count": null,
   "metadata": {},
   "outputs": [],
   "source": [
    "from graphics import *\n",
    "\n",
    "def main():\n",
    "    win = GraphWin(\"Celsius Converter\", 300,200)\n",
    "    win.setCoords(0.0, 0.0, 3.0, 4.0)\n",
    "\n",
    "    t1 = Text(Point(1,3), \"Celsius temp: \")\n",
    "\n",
    "    t1.draw(win)\n",
    "\n",
    "    t2 = Text(Point(1,1), \"Fahrenheit temp: \")\n",
    "\n",
    "    t2.draw(win)\n",
    "\n",
    "\n",
    "\n",
    "    input = Entry(Point(2,3), 5)\n",
    "    input.draw(win)\n",
    "\n",
    "    output = Entry(Point(2,1),6)\n",
    "    output.draw(win)\n",
    "\n",
    "    button = Text(Point(1.5,2.0), \"Convert It\")\n",
    "    button.draw(win)\n",
    "    Rectangle(Point(1,1.5), Point(2,2.5)).draw(win)\n",
    "\n",
    "\n",
    "    win.getMouse()\n",
    "\n",
    "\n",
    "    celsius = eval(input.getText())\n",
    "    fahrenheit = 9.0/5.0*celsius + 32\n",
    "\n",
    "    output.setText(fahrenheit)\n",
    "\n",
    "    win.getMouse()\n",
    "main()"
   ]
  }
 ],
 "metadata": {
  "kernelspec": {
   "display_name": "Python 3",
   "language": "python",
   "name": "python3"
  },
  "language_info": {
   "codemirror_mode": {
    "name": "ipython",
    "version": 3
   },
   "file_extension": ".py",
   "mimetype": "text/x-python",
   "name": "python",
   "nbconvert_exporter": "python",
   "pygments_lexer": "ipython3",
   "version": "3.12.6"
  }
 },
 "nbformat": 4,
 "nbformat_minor": 2
}
